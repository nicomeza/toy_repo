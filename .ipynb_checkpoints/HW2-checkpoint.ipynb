{
 "cells": [
  {
   "cell_type": "markdown",
   "id": "386f6bfa",
   "metadata": {},
   "source": [
    "# Problem 1\n",
    "\n",
    "Let's define :\n",
    "\n",
    "$I = \\int_{-\\infty}^{\\infty}{dx \\exp(-x^2/2)}$\n",
    "\n",
    "Then, \n",
    "\n",
    "$I^2 = \\int_{-\\infty}^{\\infty}\\int_{-\\infty}^{\\infty}{dxdy \\exp(-(x^2+y^2)/2)}$\n",
    "\n",
    ". We change to spherical coordinates,\n",
    "\n",
    "$I^2 = \\int_{0}^{2\\pi}\\int_{-\\infty}^{\\infty}{rdrd\\theta \\exp(-r^2/2)} = 2\\pi \\int_{-\\infty}^{\\infty}{rdr \\exp(-r^2/2)} = 2\\pi\\int_{0}^{\\infty}{du \\exp(-u)} = 2\\pi$.\n",
    "\n",
    "Therefore, \n",
    "\n",
    "$I = \\sqrt{2\\pi}$\n",
    "\n",
    "We can obtain the more general integral $I = \\int_{-\\infty}^{\\infty}{dx \\exp(-x^2/2\\sigma^2)}$, calling $u = x/\\sigma$, then $I = \\sigma \\int_{-\\infty}^{\\infty}{dx \\exp(-x^2/2)}= \\sqrt{2\\pi\\sigma^2}$.\n",
    "\n",
    "Therefore, $N(a) = \\sqrt{2\\pi a}$\n",
    "\n",
    "# Problem 2\n",
    "\n",
    "Using Bayes theorem : \n",
    "\n",
    "$P(a|x) = P(x|a)P(a)/\\int{da P(x|a)P(a)}$.\n",
    "\n",
    "If we consider a flat prior from 0 to some large number L that goes to infinity we have: <br>\n",
    "$P(a|x) = (2\\pi a)^{-1/2} \\exp(-x^2/2a) / \\int_{0}^{\\infty}{da (2\\pi a)^{-1/2} \\exp(-x^2/2a)}$\n",
    "\n",
    "We use the change of variable u = x^2/2a, which gives: <br>\n",
    "\n",
    "$\\frac{x}{2\\sqrt{\\pi}}\\int_{0}^{\\infty}{du u^{-3/2} \\exp(-u)}$\n",
    "\n",
    "We can write this using the extended gamma function for negative values: <br>\n",
    "\n",
    "$\\int_{0}^{\\infty}{du u^{-3/2} \\exp(-u)} = -\\Gamma(-1/2) = -\\Gamma(-1/2 + 1)/(-1/2) = 2\\Gamma(1/2) = 2\\sqrt{\\pi}$\n",
    "\n",
    "Finally we obtain the normalization as \n",
    "\n",
    "$\\frac{x}{2\\sqrt{\\pi}}\\int_{0}^{\\infty}{du u^{-3/2} \\exp(-u)} = x$\n",
    "\n",
    "Now we write the posterior \n",
    "\n",
    "$P(a|x) = (2\\pi a)^{-1/2} \\exp(-x^2/2a) / x$\n",
    "\n",
    "For a set of independent observations $\\{x_i\\}$, we can use the product property of the gaussian distribution and replace x with $\\sqrt{\\sum{x_i^2}}$\n",
    "\n",
    "$P(\\{x_i\\}|a) = \\prod_{i} (2\\pi a)^{-1/2} \\exp(-x_i^2/2a) = (2\\pi a)^{-N/2} \\exp(-\\sum{x_i^2}/2a)$ \n",
    "\n",
    "Beyond the normalization factor the shape of the posterior for a flat prior in the whole range possible is **exactly** the same as the likelihood as a function of the parameter a.\n",
    "\n",
    "# Problem 3"
   ]
  },
  {
   "cell_type": "code",
   "execution_count": 32,
   "id": "76ce24e0",
   "metadata": {},
   "outputs": [],
   "source": [
    "import numpy as np\n",
    "import numpy.random as random\n",
    "import matplotlib.pyplot as pl\n",
    "\n",
    "pi = np.pi"
   ]
  },
  {
   "cell_type": "code",
   "execution_count": 31,
   "id": "16d108c9",
   "metadata": {},
   "outputs": [
    {
     "data": {
      "text/plain": [
       "<matplotlib.colorbar.Colorbar at 0x7fe50009b850>"
      ]
     },
     "execution_count": 31,
     "metadata": {},
     "output_type": "execute_result"
    },
    {
     "data": {
      "image/png": "[encoded data removed]",
      "text/plain": [
       "<Figure size 432x288 with 1 Axes>"
      ]
     },
     "metadata": {
      "needs_background": "light"
     },
     "output_type": "display_data"
    },
    {
     "data": {
      "image/png": "[encoded data removed]",
      "text/plain": [
       "<Figure size 432x288 with 2 Axes>"
      ]
     },
     "metadata": {
      "needs_background": "light"
     },
     "output_type": "display_data"
    }
   ],
   "source": [
    "N=2\n",
    "sigma = 1\n",
    "size=int(1e2)\n",
    "\n",
    "x,y = random.multivariate_normal(np.zeros(N),np.diag(sigma**2. * np.ones(N)),size=size).T\n",
    "\n",
    "pl.hist(x,alpha=0.5)\n",
    "pl.hist(y,alpha=0.5)\n",
    "\n",
    "H,xedges,yedges = np.histogram2d(x,y)\n",
    "\n",
    "pl.figure()\n",
    "pl.imshow(H.T,interpolation='nearest',origin='lower',extent=[xedges[0], xedges[-1],yedges[0],yedges[-1]])\n",
    "pl.colorbar()"
   ]
  },
  {
   "cell_type": "markdown",
   "id": "31253734",
   "metadata": {},
   "source": [
    "# Problem 4"
   ]
  },
  {
   "cell_type": "code",
   "execution_count": 92,
   "id": "f0139176",
   "metadata": {},
   "outputs": [
    {
     "name": "stderr",
     "output_type": "stream",
     "text": [
      "<ipython-input-92-2065cf7245c0>:7: RuntimeWarning: invalid value encountered in sqrt\n",
      "  like = 1/np.sqrt(2*pi*a) * np.exp(-x**2. / (2*a))\n"
     ]
    }
   ],
   "source": [
    "def generator(a,sigma=1):\n",
    "    \n",
    "    return np.random.normal(a,sigma)\n",
    "\n",
    "def likelihood(a,x):\n",
    "    \n",
    "    like = 1/np.sqrt(2*pi*a) * np.exp(-x**2. / (2*a))\n",
    "    return np.nan_to_num(like,nan=0.0)\n",
    "\n",
    "def prior(a):\n",
    "    \n",
    "    return (np.array(a)>0).astype(int)\n",
    "\n",
    "def posterior(a,x):\n",
    "    \n",
    "    return likelihood(a,x)*prior(a)\n",
    "\n",
    "def MCMC(seed,x,sigma=1):\n",
    "    \n",
    "    '''seed is the previous value in parameter space.\n",
    "    x is the vector of observed values {x_i}.\n",
    "    sigma is the meta-parameter controlling the width of the gaussian in the generator function.'''\n",
    "    \n",
    "    new = generator(seed,sigma)\n",
    "    Pnew = posterior(new,x)\n",
    "    Pold = posterior(seed,x)\n",
    "    \n",
    "    r = Pnew/Pold\n",
    "    \n",
    "    u = np.random.uniform(0,1)\n",
    "    \n",
    "    if r<u:\n",
    "        \n",
    "        return seed\n",
    "    else:\n",
    "        return new\n",
    "    \n",
    "    \n",
    "\n",
    "x = 1\n",
    "\n",
    "seed = random.uniform(0.01,10)\n",
    "\n",
    "steps = 100\n",
    "sigma = 1\n",
    "\n",
    "chain = []\n",
    "\n",
    "for i in range(steps):\n",
    "    \n",
    "    chain.append(MCMC(seed,x,sigma=sigma))\n",
    "    \n",
    "\n"
   ]
  },
  {
   "cell_type": "markdown",
   "id": "adb1bb5c",
   "metadata": {},
   "source": [
    "# Problem 5\n",
    "\n",
    "Plotting the resulting chain."
   ]
  },
  {
   "cell_type": "code",
   "execution_count": 93,
   "id": "79228d7b",
   "metadata": {},
   "outputs": [
    {
     "data": {
      "text/plain": [
       "[<matplotlib.lines.Line2D at 0x7fe4ff714100>]"
      ]
     },
     "execution_count": 93,
     "metadata": {},
     "output_type": "execute_result"
    },
    {
     "data": {
      "image/png": "[encoded data removed]",
      "text/plain": [
       "<Figure size 432x288 with 1 Axes>"
      ]
     },
     "metadata": {
      "needs_background": "light"
     },
     "output_type": "display_data"
    }
   ],
   "source": [
    "pl.plot(range(steps),chain)\n",
    "\n",
    "\n"
   ]
  },
  {
   "cell_type": "markdown",
   "id": "8428ccf8",
   "metadata": {},
   "source": [
    "# Problem 6"
   ]
  },
  {
   "cell_type": "code",
   "execution_count": 94,
   "id": "1e43541f",
   "metadata": {},
   "outputs": [
    {
     "data": {
      "text/plain": [
       "(array([0.07145726, 0.11909543, 0.33346722, 0.26200996, 0.33346722,\n",
       "        0.52401991, 0.38110539, 0.14291452, 0.14291452, 0.07145726]),\n",
       " array([0.65111094, 1.07094231, 1.49077369, 1.91060506, 2.33043644,\n",
       "        2.75026781, 3.17009919, 3.58993057, 4.00976194, 4.42959332,\n",
       "        4.84942469]),\n",
       " <BarContainer object of 10 artists>)"
      ]
     },
     "execution_count": 94,
     "metadata": {},
     "output_type": "execute_result"
    },
    {
     "data": {
      "image/png": "[encoded data removed]",
      "text/plain": [
       "<Figure size 432x288 with 1 Axes>"
      ]
     },
     "metadata": {
      "needs_background": "light"
     },
     "output_type": "display_data"
    }
   ],
   "source": [
    "a_s = np.linspace(0.01,10,100)\n",
    "pl.plot(a_s,posterior(a_s,x))\n",
    "pl.hist(chain,density=True)\n"
   ]
  },
  {
   "cell_type": "code",
   "execution_count": 85,
   "id": "6b1328ea",
   "metadata": {},
   "outputs": [],
   "source": []
  },
  {
   "cell_type": "code",
   "execution_count": null,
   "id": "aacaaf26",
   "metadata": {},
   "outputs": [],
   "source": []
  }
 ],
 "metadata": {
  "kernelspec": {
   "display_name": "Python 3",
   "language": "python",
   "name": "python3"
  },
  "language_info": {
   "codemirror_mode": {
    "name": "ipython",
    "version": 3
   },
   "file_extension": ".py",
   "mimetype": "text/x-python",
   "name": "python",
   "nbconvert_exporter": "python",
   "pygments_lexer": "ipython3",
   "version": "3.8.8"
  }
 },
 "nbformat": 4,
 "nbformat_minor": 5
}
